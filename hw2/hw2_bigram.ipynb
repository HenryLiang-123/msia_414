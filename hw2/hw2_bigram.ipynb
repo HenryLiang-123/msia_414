{
 "cells": [
  {
   "cell_type": "code",
   "execution_count": 1,
   "metadata": {},
   "outputs": [],
   "source": [
    "from tabulate import tabulate\n",
    "import numpy as np"
   ]
  },
  {
   "attachments": {},
   "cell_type": "markdown",
   "metadata": {},
   "source": [
    "### Setup"
   ]
  },
  {
   "cell_type": "code",
   "execution_count": 2,
   "metadata": {},
   "outputs": [],
   "source": [
    "tkns = [\"i\",\"want\",\"to\",\"eat\",\"chinese\",\"food\",\"lunch\",\"spend\"]\n",
    "\n",
    "tble = [[\"\"]+tkns,\n",
    "       [\"i\",\"0.002\", \"0.33\", \"0\", \"0.0036\", \"0\", \"0\", \"0\", \"0.00079\"],\n",
    "       [\"want\", \"0.0022\", \"0\", \"0.66\", \"0.0011\", \"0.0065\", \"0.0065\", \"0.0054\", \"0.0011\"],\n",
    "       [\"to\", \"0.00083\", \"0\", \"0.0017\", \"0.28\", \"0.00083\", \"0\", \"0.0025\", \"0.087\"],\n",
    "       [\"eat\", \"0\", \"0\", \"0.0027\", \"0\", \"0.021\", \"0.0027\", \"0.056\", \"0\"],\n",
    "       [\"chinese\", \"0.0063\", \"0\", \"0\", \"0\", \"0\", \"0.52\", \"0.0063\", \"0\"],\n",
    "       [\"food\", \"0.014\", \"0\", \"0.014\", \"0\", \"0.00092\", \"0.0037\", \"0\", \"0\"],\n",
    "       [\"lunch\", \"0.0059\", \"0\", \"0\", \"0\", \"0\", \"0.0029\", \"0\", \"0\"],\n",
    "       [\"spend\", \"0.0036\", \"0\", \"0.0036\", \"0\", \"0\", \"0\", \"0\", \"0\"]]"
   ]
  },
  {
   "cell_type": "code",
   "execution_count": 3,
   "metadata": {},
   "outputs": [
    {
     "name": "stdout",
     "output_type": "stream",
     "text": [
      "               i    want      to     eat    chinese    food    lunch    spend\n",
      "-------  -------  ------  ------  ------  ---------  ------  -------  -------\n",
      "i        0.002      0.33  0       0.0036    0        0        0       0.00079\n",
      "want     0.0022     0     0.66    0.0011    0.0065   0.0065   0.0054  0.0011\n",
      "to       0.00083    0     0.0017  0.28      0.00083  0        0.0025  0.087\n",
      "eat      0          0     0.0027  0         0.021    0.0027   0.056   0\n",
      "chinese  0.0063     0     0       0         0        0.52     0.0063  0\n",
      "food     0.014      0     0.014   0         0.00092  0.0037   0       0\n",
      "lunch    0.0059     0     0       0         0        0.0029   0       0\n",
      "spend    0.0036     0     0.0036  0         0        0        0       0\n"
     ]
    }
   ],
   "source": [
    "print(tabulate(tble,headers=\"firstrow\"))"
   ]
  },
  {
   "attachments": {},
   "cell_type": "markdown",
   "metadata": {},
   "source": [
    "### Actual code"
   ]
  },
  {
   "cell_type": "code",
   "execution_count": 4,
   "metadata": {},
   "outputs": [],
   "source": [
    "bigram_probabilities = {\n",
    "    'i': {'i': 0.002, 'want': 0.33, 'to': 0, 'eat': 0.0036, 'chinese': 0, 'food': 0, 'lunch': 0, 'spend': 0.00079},\n",
    "    'want': {'i': 0.0022, 'want': 0, 'to': 0.66, 'eat': 0.0011, 'chinese': 0.0065, 'food': 0.0065, 'lunch': 0.0054, 'spend': 0.0011},\n",
    "    'to': {'i': 0.00083, 'want': 0, 'to': 0.0017, 'eat': 0.28, 'chinese': 0.00083, 'food': 0, 'lunch': 0.0025, 'spend': 0.087},\n",
    "    'eat': {'i': 0, 'want': 0, 'to': 0.0027, 'eat': 0, 'chinese': 0.021, 'food': 0.0027, 'lunch': 0.056, 'spend': 0},\n",
    "    'chinese': {'i': 0.0063, 'want': 0, 'to': 0, 'eat': 0, 'chinese': 0, 'food': 0.52, 'lunch': 0.0063, 'spend': 0},\n",
    "    'food': {'i': 0.014, 'want': 0, 'to': 0.014, 'eat': 0, 'chinese': 0.00092, 'food': 0.0037, 'lunch': 0, 'spend': 0},\n",
    "    'lunch': {'i': 0.0059, 'want': 0, 'to': 0, 'eat': 0, 'chinese': 0, 'food': 0.0029, 'lunch': 0, 'spend': 0},\n",
    "    'spend': {'i': 0.0036, 'want': 0, 'to': 0.0036, 'eat': 0, 'chinese': 0, 'food': 0, 'lunch': 0, 'spend': 0}\n",
    "}\n",
    "\n",
    "table_token = []\n",
    "tokens = ['i']\n",
    "probs = []\n",
    "curr_tokens_prob = 0.25\n",
    "\n",
    "for i in range(7):\n",
    "    current_token = tokens[i]\n",
    "    next_token_probs = bigram_probabilities[current_token]\n",
    "    next_token = max(next_token_probs, key=next_token_probs.get)\n",
    "    tokens.append(next_token)\n",
    "    table_token.append(tokens.copy())\n",
    "    curr_tokens_prob *= next_token_probs[next_token]\n",
    "    probs.append(curr_tokens_prob)\n",
    "\n",
    "for j in range(len(table_token)):\n",
    "    table_token[j].append(probs[j])"
   ]
  },
  {
   "cell_type": "code",
   "execution_count": 18,
   "metadata": {},
   "outputs": [
    {
     "name": "stdout",
     "output_type": "stream",
     "text": [
      "i    token    token    token    token    token    token    token      probability\n",
      "---  -------  -------  -------  -------  -------  -------  -------  -------------\n",
      "i    want                                                             0.0825\n",
      "i    want     to                                                      0.05445\n",
      "i    want     to       eat                                            0.015246\n",
      "i    want     to       eat      lunch                                 0.000853776\n",
      "i    want     to       eat      lunch    i                            5.03728e-06\n",
      "i    want     to       eat      lunch    i        want                1.6623e-06\n",
      "i    want     to       eat      lunch    i        want     to         1.09712e-06\n"
     ]
    }
   ],
   "source": [
    "formatted_output = []\n",
    "\n",
    "for entry in table_token:\n",
    "    # Extracting probability\n",
    "    prob = entry[-1]\n",
    "    \n",
    "    # Extracting tokens and filling with empty strings until the 9th position\n",
    "    tokens = entry[:-1] + [''] * (8 - len(entry) + 1)\n",
    "    \n",
    "    # Appending probability\n",
    "    tokens.append(prob)\n",
    "    \n",
    "    # Appending formatted entry to the output list\n",
    "    formatted_output.append(tokens)\n",
    "\n",
    "output=[['i','token','token','token','token','token','token','token','probability']]\n",
    "for i in formatted_output:\n",
    "    output.append(i)\n",
    "\n",
    "print(tabulate(output,headers=\"firstrow\"))"
   ]
  },
  {
   "cell_type": "code",
   "execution_count": null,
   "metadata": {},
   "outputs": [],
   "source": []
  }
 ],
 "metadata": {
  "kernelspec": {
   "display_name": "msia_env",
   "language": "python",
   "name": "python3"
  },
  "language_info": {
   "codemirror_mode": {
    "name": "ipython",
    "version": 3
   },
   "file_extension": ".py",
   "mimetype": "text/x-python",
   "name": "python",
   "nbconvert_exporter": "python",
   "pygments_lexer": "ipython3",
   "version": "3.10.6"
  },
  "orig_nbformat": 4
 },
 "nbformat": 4,
 "nbformat_minor": 2
}
