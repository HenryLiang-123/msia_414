{
 "cells": [
  {
   "attachments": {},
   "cell_type": "markdown",
   "metadata": {},
   "source": [
    "### Regular expression and code"
   ]
  },
  {
   "attachments": {},
   "cell_type": "markdown",
   "metadata": {},
   "source": [
    "The regular expression to match the word \"the\" as a whole word, case insensitive is \\bthe\\b. The \\b is a word boundary, ensuring that the pattern matches \"the\" only when it's surrounded by non-word characters or at the beginning or end of a string. Note that expressions like \"the_\" will not be included as it is not the whole word."
   ]
  },
  {
   "cell_type": "code",
   "execution_count": 7,
   "metadata": {},
   "outputs": [
    {
     "name": "stdout",
     "output_type": "stream",
     "text": [
      "Regular Expression: \\bthe\\b\n",
      "\n",
      "List of Matches: ['The', 'the', 'The', 'the', 'the', 'the', 'the', 'the', 'the', 'The', 'the', 'The', 'the', 'The', 'the', 'The', 'The', 'the', 'the', 'The', 'the', 'The']\n",
      "\n",
      "Count of Matches: 22\n",
      "\n",
      "\n"
     ]
    },
    {
     "data": {
      "text/html": [
       "\n",
       "<strong>The</strong> quick brown fox jumps over <strong>the</strong> lazy dog. <strong>The</strong> cat is on <strong>the</strong> mat. Theology is <strong>the</strong> study of religious belief. Other animals also inhabit <strong>the</strong> forest. The_quick_brown_dog chases its tail. The25 students attended <strong>the</strong> lecture. There are many theories about <strong>the</strong> origin of <strong>the</strong> universe. <strong>The</strong> sun shines brightly in <strong>the</strong> sky. The_quick_brown_fox is a popular phrase. <strong>The</strong> end of <strong>the</strong> story is unexpected. <strong>The</strong> weather is getting colder. The_1234 project deadline is approaching. There is no doubt that <strong>the</strong> event will be a success. <strong>The</strong> team celebrated their victory. <strong>The</strong> quick_brown_fox is known for its speed. The123 students scored well in <strong>the</strong> exam. The_quick_brown_dog is friendly. The_25th anniversary of <strong>the</strong> school is approaching. <strong>The</strong> beginning of <strong>the</strong> book is captivating. <strong>The</strong> result was beyond their expectations. The_theory needs further investigation.\n"
      ],
      "text/plain": [
       "<IPython.core.display.HTML object>"
      ]
     },
     "metadata": {},
     "output_type": "display_data"
    }
   ],
   "source": [
    "import re\n",
    "from IPython.display import display, HTML\n",
    "\n",
    "text = \"\"\"\n",
    "The quick brown fox jumps over the lazy dog. The cat is on the mat. Theology is the study of religious belief. Other animals also inhabit the forest. The_quick_brown_dog chases its tail. The25 students attended the lecture. There are many theories about the origin of the universe. The sun shines brightly in the sky. The_quick_brown_fox is a popular phrase. The end of the story is unexpected. The weather is getting colder. The_1234 project deadline is approaching. There is no doubt that the event will be a success. The team celebrated their victory. The quick_brown_fox is known for its speed. The123 students scored well in the exam. The_quick_brown_dog is friendly. The_25th anniversary of the school is approaching. The beginning of the book is captivating. The result was beyond their expectations. The_theory needs further investigation.\n",
    "\"\"\"\n",
    "\n",
    "pattern = re.compile(r'\\bthe\\b', re.IGNORECASE)\n",
    "\n",
    "# Find all matches\n",
    "matches = pattern.findall(text)\n",
    "\n",
    "# Count the matches\n",
    "count = len(matches)\n",
    "\n",
    "# Highlight the matches with bold font\n",
    "bold_text = pattern.sub(r'<strong>\\g<0></strong>', text)\n",
    "\n",
    "# Output\n",
    "print(\"Regular Expression:\", pattern.pattern)\n",
    "print(\"\\nList of Matches:\", matches)\n",
    "print(\"\\nCount of Matches:\", count)\n",
    "print(\"\\n\")\n",
    "display(HTML(bold_text))"
   ]
  },
  {
   "cell_type": "code",
   "execution_count": null,
   "metadata": {},
   "outputs": [],
   "source": []
  }
 ],
 "metadata": {
  "kernelspec": {
   "display_name": "msia_env",
   "language": "python",
   "name": "python3"
  },
  "language_info": {
   "codemirror_mode": {
    "name": "ipython",
    "version": 3
   },
   "file_extension": ".py",
   "mimetype": "text/x-python",
   "name": "python",
   "nbconvert_exporter": "python",
   "pygments_lexer": "ipython3",
   "version": "3.10.6"
  },
  "orig_nbformat": 4
 },
 "nbformat": 4,
 "nbformat_minor": 2
}
