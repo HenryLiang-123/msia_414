{
 "cells": [
  {
   "cell_type": "code",
   "execution_count": 145,
   "metadata": {},
   "outputs": [
    {
     "name": "stdout",
     "output_type": "stream",
     "text": [
      "                                           Sentences  Labels\n",
      "0  6 : 28 If there be dearth in the land, if ther...       0\n",
      "1  8 : 23 And I will put a division between my to...       1\n",
      "2  Pausing, he waited for her to turn, to ask a q...       0\n",
      "3    I warrant you she is a fine size by this time.\"       0\n",
      "4  The East was popularly supposed to have got th...       0\n",
      "                                           Sentences\n",
      "0  The bars were marked as Walter had marked them...\n",
      "1  Last came a little feeble, squeaking voice, ('...\n",
      "2  And in all probability you will see your broth...\n",
      "3  8 : 50 And I seek not mine own glory : there i...\n",
      "4  20 : 11 But the LORD is with me as a mighty te...\n"
     ]
    }
   ],
   "source": [
    "import numpy as np\n",
    "import pandas as pd\n",
    "import pickle\n",
    "from sklearn.preprocessing import LabelEncoder\n",
    "from sklearn.model_selection import train_test_split\n",
    "from pathlib import Path\n",
    "import os\n",
    "\n",
    "train_sentences = np.load('./data/FS_train.npy', allow_pickle=True)\n",
    "train_labels = np.load('./data/FS_labels.npy', allow_pickle=True)\n",
    "test_sentences = np.load('./data/FS_test.npy', allow_pickle=True)\n",
    "\n",
    "# Convert the numpy arrays to pandas DataFrames\n",
    "df_train = pd.DataFrame({\n",
    "    'Sentences': train_sentences,\n",
    "    'Labels': train_labels\n",
    "})\n",
    "\n",
    "df_test = pd.DataFrame({\n",
    "    'Sentences': test_sentences\n",
    "})\n",
    "\n",
    "print(df_train.head())\n",
    "print(df_test.head())"
   ]
  },
  {
   "cell_type": "code",
   "execution_count": 146,
   "metadata": {},
   "outputs": [
    {
     "data": {
      "text/plain": [
       "Labels\n",
       "1    90008\n",
       "0    89992\n",
       "Name: count, dtype: int64"
      ]
     },
     "execution_count": 146,
     "metadata": {},
     "output_type": "execute_result"
    }
   ],
   "source": [
    "df_train.Labels.value_counts()"
   ]
  },
  {
   "cell_type": "code",
   "execution_count": 147,
   "metadata": {},
   "outputs": [],
   "source": [
    "# Create embedding index from file in .txt format. First line contains \n",
    "# dictionary size and embedding dim. Fields are space separated\n",
    "def get_embeddings(file_name):\n",
    "    embeddings_index = {}\n",
    "    with open(file_name, encoding=\"utf8\") as f:\n",
    "        for line in f:\n",
    "            values = line.rstrip().split(' ')\n",
    "            if len(values) > 2:\n",
    "                embeddings_index[values[0]] = np.asarray(values[1:], dtype=\"float32\")\n",
    "    return embeddings_index\n",
    "embeddings_index = get_embeddings('./crawl-300d-2M.vec')"
   ]
  },
  {
   "cell_type": "code",
   "execution_count": 148,
   "metadata": {},
   "outputs": [
    {
     "name": "stdout",
     "output_type": "stream",
     "text": [
      "Creating the vocabulary of words occurred more than 5\n",
      "27005 top words\n"
     ]
    }
   ],
   "source": [
    "import string\n",
    "trans_table = str.maketrans({key: ' ' for key in string.digits + '\\r\\n' +\n",
    "                             string.punctuation.replace(\"\\'\",'')})\n",
    "def preprocess(text):\n",
    "    return ' '.join(text.lower().translate(trans_table).split(' '))\n",
    "\n",
    "from sklearn.feature_extraction.text import CountVectorizer\n",
    "\n",
    "UNKNOWN_PROXY = 'unknown'\n",
    "MIN_WORD_OCCURRENCE = 5\n",
    "\n",
    "df_train['Sentences'] = df_train.Sentences.apply(preprocess)\n",
    "print(\"Creating the vocabulary of words occurred more than\", MIN_WORD_OCCURRENCE)\n",
    "\n",
    "vectorizer = CountVectorizer(lowercase=False, token_pattern=\"\\S+\", \n",
    "                             min_df=MIN_WORD_OCCURRENCE)\n",
    "vectorizer.fit(df_train.Sentences)\n",
    "\n",
    "top_words = set(vectorizer.vocabulary_.keys())\n",
    "top_words.add(UNKNOWN_PROXY)\n",
    "print(len(top_words),'top words')\n",
    "\n",
    "\n",
    "df_test['Sentences'] = df_test.Sentences.apply(preprocess)"
   ]
  },
  {
   "cell_type": "code",
   "execution_count": 152,
   "metadata": {},
   "outputs": [
    {
     "name": "stdout",
     "output_type": "stream",
     "text": [
      "First 10 out of \"top_words\": \n",
      " ['computer', 'jealousy', 'herman', 'graceful', 'inn', 'counseling', 'balancing', 'blink', 'tussle', 'surmised']\n",
      "\n",
      "Is \"unknown\" in top_words? \n",
      " True\n"
     ]
    }
   ],
   "source": [
    "print('First 10 out of \"top_words\": \\n',list(top_words)[:10])\n",
    "print('\\nIs \"unknown\" in top_words? \\n','unknown' in top_words)"
   ]
  },
  {
   "cell_type": "code",
   "execution_count": 153,
   "metadata": {},
   "outputs": [],
   "source": [
    "def filter_unknown(text, vocabulary, proxy):\n",
    "    return ' '. \\\n",
    "join([w if w in vocabulary else proxy for w in text.split(' ')])\n",
    "\n",
    "df_train['Sentences'] = df_train.Sentences.apply(filter_unknown,\n",
    "                args=(set(embeddings_index.keys() & top_words), \\\n",
    "                      UNKNOWN_PROXY))\n",
    "\n",
    "\n",
    "df_test['Sentences'] = df_test.Sentences.apply(filter_unknown,\n",
    "                args=(set(embeddings_index.keys() & top_words), \\\n",
    "                      UNKNOWN_PROXY))"
   ]
  },
  {
   "cell_type": "code",
   "execution_count": 154,
   "metadata": {},
   "outputs": [
    {
     "name": "stdout",
     "output_type": "stream",
     "text": [
      "<keras.preprocessing.text.Tokenizer object at 0x7f39e9f94c10>\n"
     ]
    }
   ],
   "source": [
    "from tensorflow.keras.preprocessing.text import text_to_word_sequence, Tokenizer\n",
    "from tensorflow.keras.preprocessing.sequence import pad_sequences\n",
    "from tensorflow.keras.layers import Embedding\n",
    "\n",
    "tokenizer = Tokenizer(filters=\"\")\n",
    "tokenizer.fit_on_texts(df_train.Sentences)\n",
    "print(tokenizer)"
   ]
  },
  {
   "cell_type": "code",
   "execution_count": 155,
   "metadata": {},
   "outputs": [
    {
     "name": "stdout",
     "output_type": "stream",
     "text": [
      "25195\n"
     ]
    },
    {
     "data": {
      "text/plain": [
       "[('unknown', 1),\n",
       " ('the', 2),\n",
       " ('and', 3),\n",
       " ('of', 4),\n",
       " ('to', 5),\n",
       " ('a', 6),\n",
       " ('in', 7),\n",
       " ('that', 8),\n",
       " ('he', 9),\n",
       " ('i', 10),\n",
       " ('it', 11),\n",
       " ('for', 12),\n",
       " ('his', 13),\n",
       " ('was', 14),\n",
       " ('is', 15),\n",
       " ('with', 16)]"
      ]
     },
     "execution_count": 155,
     "metadata": {},
     "output_type": "execute_result"
    }
   ],
   "source": [
    "word_index = tokenizer.word_index\n",
    "print(len(word_index))\n",
    "list(word_index.items())[:16]"
   ]
  },
  {
   "cell_type": "code",
   "execution_count": 143,
   "metadata": {},
   "outputs": [
    {
     "name": "stdout",
     "output_type": "stream",
     "text": [
      "\n",
      "First 2 sequences in `seq`:  [[1, 1, 1, 1, 1, 1, 1, 57, 50, 17, 10984, 7, 2, 161, 1, 57, 50, 17, 4011, 1, 57, 50, 17, 11749, 1, 41, 16393, 1, 8912, 1, 41, 19723, 1, 1, 57, 42, 747, 11750, 35, 7, 2, 456, 4, 42, 161, 1, 1, 1807, 1886, 41, 1807, 5296, 50, 17, 1, 1, 1, 1, 1, 1, 1, 1, 1, 63, 59, 1501, 41, 59, 5060, 9595, 36, 17, 98, 4, 79, 60, 1, 41, 4, 23, 71, 105, 142, 1, 51, 112, 47, 36, 103, 13, 128, 1886, 3, 13, 128, 3242, 1, 3, 36, 821, 246, 13, 248, 7, 32, 108, 1, 1, 1, 1, 1, 1, 1, 1, 1, 63, 236, 62, 33, 257, 71, 2942, 169, 1, 3, 2038, 1, 3, 3687, 49, 112, 60, 305, 49, 23, 13, 620, 1, 291, 203, 62, 2326, 1, 1, 1, 1, 12, 62, 86, 2326, 2, 1263, 4, 2, 140, 4, 109, 1, 1, 1, 1, 1, 1, 1, 1, 1, 1, 8, 24, 94, 377, 75, 1, 5, 489, 7, 71, 620, 1, 46, 143, 18, 24, 405, 7, 2, 161, 34, 62, 6079, 49, 90, 484, 1], [1, 1, 1, 1, 1, 1, 1, 3, 10, 48, 175, 6, 2327, 217, 37, 5, 319, 1, 1, 3, 38, 961, 25, 1, 1, 3, 1, 1, 1, 1, 3, 1, 1]]\n",
      "\n",
      "Shape of `data`:  (180000, 50)\n",
      "\n",
      "First prepared text in `data`: [    1     1     1     1     1     1     1    57    50    17 10984     7\n",
      "     2   161     1    57    50    17  4011     1    57    50    17 11749\n",
      "     1    41 16393     1  8912     1    41 19723     1     1    57    42\n",
      "   747 11750    35     7     2   456     4    42   161     1     1  1807\n",
      "  1886    41]\n"
     ]
    }
   ],
   "source": [
    "MAX_SEQUENCE_LENGTH = 50\n",
    "seq = tokenizer.texts_to_sequences(df_train.Sentences)\n",
    "data = pad_sequences(seq,maxlen=MAX_SEQUENCE_LENGTH,padding='post',\n",
    "                     truncating='post')\n",
    "with open('./fake_sentence.pkl','wb') as f: pickle.dump(data, f, -1)\n",
    "\n",
    "print('\\nFirst 2 sequences in `seq`: ',seq[:2])\n",
    "print('\\nShape of `data`: ',data.shape)\n",
    "print('\\nFirst prepared text in `data`:',data[0])"
   ]
  },
  {
   "cell_type": "code",
   "execution_count": 144,
   "metadata": {},
   "outputs": [
    {
     "name": "stdout",
     "output_type": "stream",
     "text": [
      "\n",
      "First 2 sequences in `seq`:  [[2, 2588, 44, 1912, 18, 1502, 26, 1912, 35, 7, 6, 275, 434, 507, 483, 7, 6, 1018, 792, 1], [179, 95, 6, 99, 1, 15368, 1, 1, 8, 20, 45, 1, 194, 1, 20, 1, 10, 673, 103, 1, 56, 1, 1391, 80, 1, 10, 20, 397, 252, 68, 1, 22, 10, 16, 2, 1, 154, 237, 1]]\n",
      "\n",
      "Shape of `data`:  (20000, 50)\n",
      "\n",
      "First prepared text in `data`: [   2 2588   44 1912   18 1502   26 1912   35    7    6  275  434  507\n",
      "  483    7    6 1018  792    1    0    0    0    0    0    0    0    0\n",
      "    0    0    0    0    0    0    0    0    0    0    0    0    0    0\n",
      "    0    0    0    0    0    0    0    0]\n"
     ]
    }
   ],
   "source": [
    "MAX_SEQUENCE_LENGTH = 50\n",
    "seq_test = tokenizer.texts_to_sequences(df_test.Sentences)\n",
    "data_test = pad_sequences(seq_test,maxlen=MAX_SEQUENCE_LENGTH,padding='post',\n",
    "                     truncating='post')\n",
    "with open('./fake_sentence_test.pkl','wb') as f: pickle.dump(data, f, -1)\n",
    "\n",
    "print('\\nFirst 2 sequences in `seq`: ',seq_test[:2])\n",
    "print('\\nShape of `data`: ',data_test.shape)\n",
    "print('\\nFirst prepared text in `data`:',data_test[0])"
   ]
  },
  {
   "cell_type": "code",
   "execution_count": 156,
   "metadata": {},
   "outputs": [
    {
     "name": "stdout",
     "output_type": "stream",
     "text": [
      "300\n"
     ]
    }
   ],
   "source": [
    "# Create embedding matrix\n",
    "\n",
    "embeddings_dim = len(next(iter(embeddings_index.values())))\n",
    "print(embeddings_dim)\n",
    "\n",
    "def get_embedding_matrix(word_index,embeddings_index):\n",
    "    nb_words = len(word_index) + 1 # +1 since min(word_index.values())=1\n",
    "    embedding_matrix = np.zeros((nb_words,embeddings_dim))\n",
    "    unknown = 0\n",
    "    for word, i in word_index.items():\n",
    "        embedding_vector = embeddings_index.get(word)\n",
    "        if embedding_vector is None: unknown += 1\n",
    "        else: embedding_matrix[i] = embedding_vector\n",
    "    return embedding_matrix, unknown"
   ]
  },
  {
   "cell_type": "code",
   "execution_count": 157,
   "metadata": {},
   "outputs": [
    {
     "name": "stdout",
     "output_type": "stream",
     "text": [
      "0 unknown words\n"
     ]
    }
   ],
   "source": [
    "# Create embedding_layer and save it.\n",
    "def make_save_emb_layer(word_index,embeddings_index,layer_file_name):\n",
    "    embedding_matrix,unknown = get_embedding_matrix(word_index,embeddings_index)\n",
    "    embedding_layer = Embedding(embedding_matrix.shape[0],embedding_matrix.shape[1],\n",
    "                                weights=[embedding_matrix],trainable=False)\n",
    "    with open(layer_file_name,'wb') as f: \n",
    "        pickle.dump(embedding_layer, f, -1)\n",
    "    return unknown\n",
    "\n",
    "EMBEDDING_LAYER_FILE = './fake_sentence_embed_layer.pkl'\n",
    "print(make_save_emb_layer(word_index,embeddings_index,EMBEDDING_LAYER_FILE),\n",
    "      'unknown words')"
   ]
  },
  {
   "cell_type": "code",
   "execution_count": 132,
   "metadata": {},
   "outputs": [],
   "source": [
    "from tensorflow.keras.layers import Dense,Embedding,Input,Dropout,Conv1D\n",
    "from tensorflow.keras.layers import SpatialDropout1D, Flatten,LSTM\n",
    "from tensorflow.keras.models import Model\n",
    "from tensorflow.keras.regularizers import l2\n",
    "from tensorflow.keras.optimizers import Adam\n",
    "from tensorflow.keras.layers import BatchNormalization, GlobalMaxPooling1D, GlobalAveragePooling1D\n",
    "from tensorflow.keras.callbacks import EarlyStopping, ModelCheckpoint, TensorBoard,  ReduceLROnPlateau\n",
    "from sklearn.metrics import roc_auc_score\n",
    "from tensorflow.keras.utils import plot_model\n",
    "from keras.layers import Input, Embedding, SpatialDropout1D, LSTM, Conv1D, Flatten, BatchNormalization, Dropout, Dense, GlobalMaxPooling1D, GlobalAveragePooling1D, concatenate, Bidirectional\n",
    "from keras.models import Model\n",
    "from keras.optimizers import Adam\n",
    "\n",
    "def get_model():\n",
    "    input_layer = Input(shape=(MAX_SEQUENCE_LENGTH,))\n",
    "    x = embedding_layer(input_layer)\n",
    "    x = SpatialDropout1D(0.5)(x)\n",
    "    # Stack multiple LSTM layers\n",
    "    x = LSTM(50, return_sequences=True)(x)\n",
    "    x = LSTM(50, return_sequences=True)(x)\n",
    "    avg_pool = GlobalAveragePooling1D()(x)\n",
    "    max_pool = GlobalMaxPooling1D()(x)\n",
    "    conc = concatenate([avg_pool, max_pool])\n",
    "    x = BatchNormalization()(conc)\n",
    "    x = Dropout(0.5)(x)  # Increased dropout rate\n",
    "    # Multiple dense layers\n",
    "    x = Dense(100, activation=\"relu\")(x)\n",
    "    x = Dropout(0.5)(x)\n",
    "    x = Dense(50, activation=\"relu\")(x)\n",
    "    output_layer = Dense(1, activation=\"sigmoid\")(x)\n",
    "    model = Model(inputs=input_layer, outputs=output_layer)\n",
    "    model.compile(loss=\"binary_crossentropy\", optimizer='RMSprop')  # Changed optimizer\n",
    "    return model\n"
   ]
  },
  {
   "cell_type": "code",
   "execution_count": 133,
   "metadata": {},
   "outputs": [
    {
     "name": "stdout",
     "output_type": "stream",
     "text": [
      "Model: \"model_17\"\n",
      "__________________________________________________________________________________________________\n",
      " Layer (type)                   Output Shape         Param #     Connected to                     \n",
      "==================================================================================================\n",
      " input_20 (InputLayer)          [(None, 50)]         0           []                               \n",
      "                                                                                                  \n",
      " embedding_4 (Embedding)        (None, 50, 300)      7558800     ['input_20[0][0]']               \n",
      "                                                                                                  \n",
      " spatial_dropout1d_19 (SpatialD  (None, 50, 300)     0           ['embedding_4[0][0]']            \n",
      " ropout1D)                                                                                        \n",
      "                                                                                                  \n",
      " lstm_19 (LSTM)                 (None, 50, 50)       70200       ['spatial_dropout1d_19[0][0]']   \n",
      "                                                                                                  \n",
      " lstm_20 (LSTM)                 (None, 50, 50)       20200       ['lstm_19[0][0]']                \n",
      "                                                                                                  \n",
      " global_average_pooling1d_2 (Gl  (None, 50)          0           ['lstm_20[0][0]']                \n",
      " obalAveragePooling1D)                                                                            \n",
      "                                                                                                  \n",
      " global_max_pooling1d_11 (Globa  (None, 50)          0           ['lstm_20[0][0]']                \n",
      " lMaxPooling1D)                                                                                   \n",
      "                                                                                                  \n",
      " concatenate_2 (Concatenate)    (None, 100)          0           ['global_average_pooling1d_2[0][0\n",
      "                                                                 ]',                              \n",
      "                                                                  'global_max_pooling1d_11[0][0]']\n",
      "                                                                                                  \n",
      " batch_normalization_16 (BatchN  (None, 100)         400         ['concatenate_2[0][0]']          \n",
      " ormalization)                                                                                    \n",
      "                                                                                                  \n",
      " dropout_27 (Dropout)           (None, 100)          0           ['batch_normalization_16[0][0]'] \n",
      "                                                                                                  \n",
      " dense_37 (Dense)               (None, 100)          10100       ['dropout_27[0][0]']             \n",
      "                                                                                                  \n",
      " dropout_28 (Dropout)           (None, 100)          0           ['dense_37[0][0]']               \n",
      "                                                                                                  \n",
      " dense_38 (Dense)               (None, 50)           5050        ['dropout_28[0][0]']             \n",
      "                                                                                                  \n",
      " dense_39 (Dense)               (None, 1)            51          ['dense_38[0][0]']               \n",
      "                                                                                                  \n",
      "==================================================================================================\n",
      "Total params: 7,664,801\n",
      "Trainable params: 105,801\n",
      "Non-trainable params: 7,559,000\n",
      "__________________________________________________________________________________________________\n",
      "None\n",
      "You must install pydot (`pip install pydot`) and install graphviz (see instructions at https://graphviz.gitlab.io/download/) for plot_model to work.\n"
     ]
    },
    {
     "name": "stderr",
     "output_type": "stream",
     "text": [
      "2023-10-21 21:55:29.741047: I tensorflow/core/common_runtime/executor.cc:1197] [/device:CPU:0] (DEBUG INFO) Executor start aborting (this does not indicate an error and you can ignore this message): INVALID_ARGUMENT: You must feed a value for placeholder tensor 'gradients/split_2_grad/concat/split_2/split_dim' with dtype int32\n",
      "\t [[{{node gradients/split_2_grad/concat/split_2/split_dim}}]]\n",
      "2023-10-21 21:55:29.741815: I tensorflow/core/common_runtime/executor.cc:1197] [/device:CPU:0] (DEBUG INFO) Executor start aborting (this does not indicate an error and you can ignore this message): INVALID_ARGUMENT: You must feed a value for placeholder tensor 'gradients/split_grad/concat/split/split_dim' with dtype int32\n",
      "\t [[{{node gradients/split_grad/concat/split/split_dim}}]]\n",
      "2023-10-21 21:55:29.742579: I tensorflow/core/common_runtime/executor.cc:1197] [/device:CPU:0] (DEBUG INFO) Executor start aborting (this does not indicate an error and you can ignore this message): INVALID_ARGUMENT: You must feed a value for placeholder tensor 'gradients/split_1_grad/concat/split_1/split_dim' with dtype int32\n",
      "\t [[{{node gradients/split_1_grad/concat/split_1/split_dim}}]]\n",
      "2023-10-21 21:55:29.823510: I tensorflow/core/common_runtime/executor.cc:1197] [/device:CPU:0] (DEBUG INFO) Executor start aborting (this does not indicate an error and you can ignore this message): INVALID_ARGUMENT: You must feed a value for placeholder tensor 'gradients/split_2_grad/concat/split_2/split_dim' with dtype int32\n",
      "\t [[{{node gradients/split_2_grad/concat/split_2/split_dim}}]]\n",
      "2023-10-21 21:55:29.824222: I tensorflow/core/common_runtime/executor.cc:1197] [/device:CPU:0] (DEBUG INFO) Executor start aborting (this does not indicate an error and you can ignore this message): INVALID_ARGUMENT: You must feed a value for placeholder tensor 'gradients/split_grad/concat/split/split_dim' with dtype int32\n",
      "\t [[{{node gradients/split_grad/concat/split/split_dim}}]]\n",
      "2023-10-21 21:55:29.824758: I tensorflow/core/common_runtime/executor.cc:1197] [/device:CPU:0] (DEBUG INFO) Executor start aborting (this does not indicate an error and you can ignore this message): INVALID_ARGUMENT: You must feed a value for placeholder tensor 'gradients/split_1_grad/concat/split_1/split_dim' with dtype int32\n",
      "\t [[{{node gradients/split_1_grad/concat/split_1/split_dim}}]]\n"
     ]
    }
   ],
   "source": [
    "with open(EMBEDDING_LAYER_FILE, 'rb') as f: embedding_layer = pickle.load(f)\n",
    "with open('./fake_sentence.pkl', 'rb') as f: data = pickle.load(f)   \n",
    "\n",
    "X_train, X_test, y_train, y_test = train_test_split(data, df_train.Labels, \n",
    "                    test_size=0.2, stratify = df_train.Labels, random_state=0)\n",
    "\n",
    "best_model_path = 'best_model.h5'\n",
    "BATCH_SIZE = 512\n",
    "\n",
    "early_stopping = EarlyStopping(patience=2)\n",
    "model_checkpoint = ModelCheckpoint(best_model_path,\n",
    "                                   save_best_only=True, save_weights_only=True)\n",
    "model = get_model()\n",
    "print(model.summary())\n",
    "plot_model(model, to_file='wine_reviews.png',show_shapes=True,show_layer_names=True)"
   ]
  },
  {
   "cell_type": "code",
   "execution_count": 134,
   "metadata": {},
   "outputs": [
    {
     "name": "stdout",
     "output_type": "stream",
     "text": [
      "Epoch 1/100\n"
     ]
    },
    {
     "name": "stderr",
     "output_type": "stream",
     "text": [
      "2023-10-21 21:55:38.273881: I tensorflow/core/common_runtime/executor.cc:1197] [/device:CPU:0] (DEBUG INFO) Executor start aborting (this does not indicate an error and you can ignore this message): INVALID_ARGUMENT: You must feed a value for placeholder tensor 'gradients/split_2_grad/concat/split_2/split_dim' with dtype int32\n",
      "\t [[{{node gradients/split_2_grad/concat/split_2/split_dim}}]]\n",
      "2023-10-21 21:55:38.274748: I tensorflow/core/common_runtime/executor.cc:1197] [/device:CPU:0] (DEBUG INFO) Executor start aborting (this does not indicate an error and you can ignore this message): INVALID_ARGUMENT: You must feed a value for placeholder tensor 'gradients/split_grad/concat/split/split_dim' with dtype int32\n",
      "\t [[{{node gradients/split_grad/concat/split/split_dim}}]]\n",
      "2023-10-21 21:55:38.275450: I tensorflow/core/common_runtime/executor.cc:1197] [/device:CPU:0] (DEBUG INFO) Executor start aborting (this does not indicate an error and you can ignore this message): INVALID_ARGUMENT: You must feed a value for placeholder tensor 'gradients/split_1_grad/concat/split_1/split_dim' with dtype int32\n",
      "\t [[{{node gradients/split_1_grad/concat/split_1/split_dim}}]]\n",
      "2023-10-21 21:55:38.354661: I tensorflow/core/common_runtime/executor.cc:1197] [/device:CPU:0] (DEBUG INFO) Executor start aborting (this does not indicate an error and you can ignore this message): INVALID_ARGUMENT: You must feed a value for placeholder tensor 'gradients/split_2_grad/concat/split_2/split_dim' with dtype int32\n",
      "\t [[{{node gradients/split_2_grad/concat/split_2/split_dim}}]]\n",
      "2023-10-21 21:55:38.355326: I tensorflow/core/common_runtime/executor.cc:1197] [/device:CPU:0] (DEBUG INFO) Executor start aborting (this does not indicate an error and you can ignore this message): INVALID_ARGUMENT: You must feed a value for placeholder tensor 'gradients/split_grad/concat/split/split_dim' with dtype int32\n",
      "\t [[{{node gradients/split_grad/concat/split/split_dim}}]]\n",
      "2023-10-21 21:55:38.355858: I tensorflow/core/common_runtime/executor.cc:1197] [/device:CPU:0] (DEBUG INFO) Executor start aborting (this does not indicate an error and you can ignore this message): INVALID_ARGUMENT: You must feed a value for placeholder tensor 'gradients/split_1_grad/concat/split_1/split_dim' with dtype int32\n",
      "\t [[{{node gradients/split_1_grad/concat/split_1/split_dim}}]]\n",
      "2023-10-21 21:55:39.237151: I tensorflow/core/common_runtime/executor.cc:1197] [/device:CPU:0] (DEBUG INFO) Executor start aborting (this does not indicate an error and you can ignore this message): INVALID_ARGUMENT: You must feed a value for placeholder tensor 'gradients/split_2_grad/concat/split_2/split_dim' with dtype int32\n",
      "\t [[{{node gradients/split_2_grad/concat/split_2/split_dim}}]]\n",
      "2023-10-21 21:55:39.237983: I tensorflow/core/common_runtime/executor.cc:1197] [/device:CPU:0] (DEBUG INFO) Executor start aborting (this does not indicate an error and you can ignore this message): INVALID_ARGUMENT: You must feed a value for placeholder tensor 'gradients/split_grad/concat/split/split_dim' with dtype int32\n",
      "\t [[{{node gradients/split_grad/concat/split/split_dim}}]]\n",
      "2023-10-21 21:55:39.238539: I tensorflow/core/common_runtime/executor.cc:1197] [/device:CPU:0] (DEBUG INFO) Executor start aborting (this does not indicate an error and you can ignore this message): INVALID_ARGUMENT: You must feed a value for placeholder tensor 'gradients/split_1_grad/concat/split_1/split_dim' with dtype int32\n",
      "\t [[{{node gradients/split_1_grad/concat/split_1/split_dim}}]]\n",
      "2023-10-21 21:55:39.325677: I tensorflow/core/common_runtime/executor.cc:1197] [/device:CPU:0] (DEBUG INFO) Executor start aborting (this does not indicate an error and you can ignore this message): INVALID_ARGUMENT: You must feed a value for placeholder tensor 'gradients/split_2_grad/concat/split_2/split_dim' with dtype int32\n",
      "\t [[{{node gradients/split_2_grad/concat/split_2/split_dim}}]]\n",
      "2023-10-21 21:55:39.326424: I tensorflow/core/common_runtime/executor.cc:1197] [/device:CPU:0] (DEBUG INFO) Executor start aborting (this does not indicate an error and you can ignore this message): INVALID_ARGUMENT: You must feed a value for placeholder tensor 'gradients/split_grad/concat/split/split_dim' with dtype int32\n",
      "\t [[{{node gradients/split_grad/concat/split/split_dim}}]]\n",
      "2023-10-21 21:55:39.327034: I tensorflow/core/common_runtime/executor.cc:1197] [/device:CPU:0] (DEBUG INFO) Executor start aborting (this does not indicate an error and you can ignore this message): INVALID_ARGUMENT: You must feed a value for placeholder tensor 'gradients/split_1_grad/concat/split_1/split_dim' with dtype int32\n",
      "\t [[{{node gradients/split_1_grad/concat/split_1/split_dim}}]]\n",
      "2023-10-21 21:55:43.273194: I tensorflow/core/common_runtime/executor.cc:1197] [/device:CPU:0] (DEBUG INFO) Executor start aborting (this does not indicate an error and you can ignore this message): INVALID_ARGUMENT: You must feed a value for placeholder tensor 'gradients/split_2_grad/concat/split_2/split_dim' with dtype int32\n",
      "\t [[{{node gradients/split_2_grad/concat/split_2/split_dim}}]]\n",
      "2023-10-21 21:55:43.274199: I tensorflow/core/common_runtime/executor.cc:1197] [/device:CPU:0] (DEBUG INFO) Executor start aborting (this does not indicate an error and you can ignore this message): INVALID_ARGUMENT: You must feed a value for placeholder tensor 'gradients/split_grad/concat/split/split_dim' with dtype int32\n",
      "\t [[{{node gradients/split_grad/concat/split/split_dim}}]]\n",
      "2023-10-21 21:55:43.274699: I tensorflow/core/common_runtime/executor.cc:1197] [/device:CPU:0] (DEBUG INFO) Executor start aborting (this does not indicate an error and you can ignore this message): INVALID_ARGUMENT: You must feed a value for placeholder tensor 'gradients/split_1_grad/concat/split_1/split_dim' with dtype int32\n",
      "\t [[{{node gradients/split_1_grad/concat/split_1/split_dim}}]]\n",
      "2023-10-21 21:55:43.350140: I tensorflow/core/common_runtime/executor.cc:1197] [/device:CPU:0] (DEBUG INFO) Executor start aborting (this does not indicate an error and you can ignore this message): INVALID_ARGUMENT: You must feed a value for placeholder tensor 'gradients/split_2_grad/concat/split_2/split_dim' with dtype int32\n",
      "\t [[{{node gradients/split_2_grad/concat/split_2/split_dim}}]]\n",
      "2023-10-21 21:55:43.350725: I tensorflow/core/common_runtime/executor.cc:1197] [/device:CPU:0] (DEBUG INFO) Executor start aborting (this does not indicate an error and you can ignore this message): INVALID_ARGUMENT: You must feed a value for placeholder tensor 'gradients/split_grad/concat/split/split_dim' with dtype int32\n",
      "\t [[{{node gradients/split_grad/concat/split/split_dim}}]]\n",
      "2023-10-21 21:55:43.351193: I tensorflow/core/common_runtime/executor.cc:1197] [/device:CPU:0] (DEBUG INFO) Executor start aborting (this does not indicate an error and you can ignore this message): INVALID_ARGUMENT: You must feed a value for placeholder tensor 'gradients/split_1_grad/concat/split_1/split_dim' with dtype int32\n",
      "\t [[{{node gradients/split_1_grad/concat/split_1/split_dim}}]]\n"
     ]
    },
    {
     "name": "stdout",
     "output_type": "stream",
     "text": [
      "282/282 - 6s - loss: 0.6923 - val_loss: 0.6991 - 6s/epoch - 20ms/step\n",
      "Epoch 2/100\n",
      "282/282 - 3s - loss: 0.6690 - val_loss: 0.6849 - 3s/epoch - 11ms/step\n",
      "Epoch 3/100\n",
      "282/282 - 3s - loss: 0.6478 - val_loss: 0.6332 - 3s/epoch - 11ms/step\n",
      "Epoch 4/100\n",
      "282/282 - 3s - loss: 0.6342 - val_loss: 0.6063 - 3s/epoch - 11ms/step\n",
      "Epoch 5/100\n",
      "282/282 - 3s - loss: 0.6224 - val_loss: 0.6095 - 3s/epoch - 11ms/step\n",
      "Epoch 6/100\n",
      "282/282 - 3s - loss: 0.6107 - val_loss: 0.5983 - 3s/epoch - 11ms/step\n",
      "Epoch 7/100\n",
      "282/282 - 3s - loss: 0.6041 - val_loss: 0.5948 - 3s/epoch - 11ms/step\n",
      "Epoch 8/100\n",
      "282/282 - 3s - loss: 0.5967 - val_loss: 0.5887 - 3s/epoch - 11ms/step\n",
      "Epoch 9/100\n",
      "282/282 - 3s - loss: 0.5914 - val_loss: 0.5716 - 3s/epoch - 11ms/step\n",
      "Epoch 10/100\n",
      "282/282 - 3s - loss: 0.5876 - val_loss: 0.5681 - 3s/epoch - 11ms/step\n",
      "Epoch 11/100\n",
      "282/282 - 3s - loss: 0.5822 - val_loss: 0.5605 - 3s/epoch - 11ms/step\n",
      "Epoch 12/100\n",
      "282/282 - 3s - loss: 0.5785 - val_loss: 0.5754 - 3s/epoch - 11ms/step\n",
      "Epoch 13/100\n",
      "282/282 - 3s - loss: 0.5754 - val_loss: 0.5590 - 3s/epoch - 11ms/step\n",
      "Epoch 14/100\n",
      "282/282 - 3s - loss: 0.5724 - val_loss: 0.5655 - 3s/epoch - 11ms/step\n",
      "Epoch 15/100\n",
      "282/282 - 3s - loss: 0.5683 - val_loss: 0.5526 - 3s/epoch - 11ms/step\n",
      "Epoch 16/100\n",
      "282/282 - 3s - loss: 0.5656 - val_loss: 0.5618 - 3s/epoch - 11ms/step\n",
      "Epoch 17/100\n",
      "282/282 - 3s - loss: 0.5615 - val_loss: 0.5531 - 3s/epoch - 11ms/step\n"
     ]
    },
    {
     "name": "stderr",
     "output_type": "stream",
     "text": [
      "2023-10-21 21:56:32.258119: I tensorflow/core/common_runtime/executor.cc:1197] [/device:CPU:0] (DEBUG INFO) Executor start aborting (this does not indicate an error and you can ignore this message): INVALID_ARGUMENT: You must feed a value for placeholder tensor 'gradients/split_2_grad/concat/split_2/split_dim' with dtype int32\n",
      "\t [[{{node gradients/split_2_grad/concat/split_2/split_dim}}]]\n",
      "2023-10-21 21:56:32.258910: I tensorflow/core/common_runtime/executor.cc:1197] [/device:CPU:0] (DEBUG INFO) Executor start aborting (this does not indicate an error and you can ignore this message): INVALID_ARGUMENT: You must feed a value for placeholder tensor 'gradients/split_grad/concat/split/split_dim' with dtype int32\n",
      "\t [[{{node gradients/split_grad/concat/split/split_dim}}]]\n",
      "2023-10-21 21:56:32.259395: I tensorflow/core/common_runtime/executor.cc:1197] [/device:CPU:0] (DEBUG INFO) Executor start aborting (this does not indicate an error and you can ignore this message): INVALID_ARGUMENT: You must feed a value for placeholder tensor 'gradients/split_1_grad/concat/split_1/split_dim' with dtype int32\n",
      "\t [[{{node gradients/split_1_grad/concat/split_1/split_dim}}]]\n",
      "2023-10-21 21:56:32.334555: I tensorflow/core/common_runtime/executor.cc:1197] [/device:CPU:0] (DEBUG INFO) Executor start aborting (this does not indicate an error and you can ignore this message): INVALID_ARGUMENT: You must feed a value for placeholder tensor 'gradients/split_2_grad/concat/split_2/split_dim' with dtype int32\n",
      "\t [[{{node gradients/split_2_grad/concat/split_2/split_dim}}]]\n",
      "2023-10-21 21:56:32.335141: I tensorflow/core/common_runtime/executor.cc:1197] [/device:CPU:0] (DEBUG INFO) Executor start aborting (this does not indicate an error and you can ignore this message): INVALID_ARGUMENT: You must feed a value for placeholder tensor 'gradients/split_grad/concat/split/split_dim' with dtype int32\n",
      "\t [[{{node gradients/split_grad/concat/split/split_dim}}]]\n",
      "2023-10-21 21:56:32.335675: I tensorflow/core/common_runtime/executor.cc:1197] [/device:CPU:0] (DEBUG INFO) Executor start aborting (this does not indicate an error and you can ignore this message): INVALID_ARGUMENT: You must feed a value for placeholder tensor 'gradients/split_1_grad/concat/split_1/split_dim' with dtype int32\n",
      "\t [[{{node gradients/split_1_grad/concat/split_1/split_dim}}]]\n"
     ]
    },
    {
     "name": "stdout",
     "output_type": "stream",
     "text": [
      "validation AUC 0.7918459650227896\n"
     ]
    }
   ],
   "source": [
    "hist = model.fit(X_train, y_train,validation_data=(X_test, y_test),\n",
    "                 epochs=100, batch_size=BATCH_SIZE, shuffle=True, verbose=2,\n",
    "                 callbacks=[early_stopping])\n",
    "# model.load_weights(best_model_path)\n",
    "test_pred = model.predict(X_test, batch_size=BATCH_SIZE, verbose=0)\n",
    "print('validation AUC',roc_auc_score(y_test, test_pred))"
   ]
  },
  {
   "cell_type": "code",
   "execution_count": 137,
   "metadata": {},
   "outputs": [
    {
     "data": {
      "text/plain": [
       "<matplotlib.legend.Legend at 0x7f39a62ad5a0>"
      ]
     },
     "execution_count": 137,
     "metadata": {},
     "output_type": "execute_result"
    },
    {
     "data": {
      "image/png": "[encoded data removed]",
      "text/plain": [
       "<Figure size 640x480 with 1 Axes>"
      ]
     },
     "metadata": {},
     "output_type": "display_data"
    }
   ],
   "source": [
    "import matplotlib.pyplot as plt\n",
    "plt.plot(hist.history['loss'])\n",
    "plt.plot(hist.history['val_loss'])\n",
    "plt.title('model loss')\n",
    "plt.ylabel('loss')\n",
    "plt.xlabel('epoch')\n",
    "plt.legend(['train', 'test'], loc='upper right')"
   ]
  },
  {
   "cell_type": "code",
   "execution_count": 138,
   "metadata": {},
   "outputs": [],
   "source": [
    "# hist2 = model.fit(data, df_train.Labels,\n",
    "#                  epochs=25, batch_size=BATCH_SIZE, shuffle=True, verbose=2)\n",
    "\n",
    "\n",
    "test_pred = model.predict(data_test, batch_size=BATCH_SIZE, verbose=0)\n",
    "arr = np.where(test_pred > 0.5, 1, 0)\n",
    "np.savetxt('submission.csv', arr, fmt='%d', delimiter=',')"
   ]
  },
  {
   "cell_type": "code",
   "execution_count": null,
   "metadata": {},
   "outputs": [],
   "source": []
  }
 ],
 "metadata": {
  "kernelspec": {
   "display_name": "msia_env",
   "language": "python",
   "name": "python3"
  },
  "language_info": {
   "codemirror_mode": {
    "name": "ipython",
    "version": 3
   },
   "file_extension": ".py",
   "mimetype": "text/x-python",
   "name": "python",
   "nbconvert_exporter": "python",
   "pygments_lexer": "ipython3",
   "version": "3.10.12"
  },
  "orig_nbformat": 4
 },
 "nbformat": 4,
 "nbformat_minor": 2
}
